{
  "nbformat": 4,
  "nbformat_minor": 0,
  "metadata": {
    "colab": {
      "name": "carnivores-image-classification-using-pre-trained_model_(Keras).ipynb",
      "provenance": [],
      "toc_visible": true,
      "mount_file_id": "1GnQFAnKJocRSvqUrOmUYjOo3beL1Ke1a",
      "authorship_tag": "ABX9TyP9cvVWknrdat0s63Hq5qLl",
      "include_colab_link": true
    },
    "kernelspec": {
      "name": "python3",
      "display_name": "Python 3"
    },
    "accelerator": "GPU"
  },
  "cells": [
    {
      "cell_type": "markdown",
      "metadata": {
        "id": "view-in-github",
        "colab_type": "text"
      },
      "source": [
        "<a href=\"https://colab.research.google.com/github/gentleman101/Deep_Learning/blob/main/carnivores_image_classification_using_pre_trained_model_(Keras).ipynb\" target=\"_parent\"><img src=\"https://colab.research.google.com/assets/colab-badge.svg\" alt=\"Open In Colab\"/></a>"
      ]
    },
    {
      "cell_type": "markdown",
      "metadata": {
        "id": "Ju7inlzmrK1s"
      },
      "source": [
        "# Importing Necessary Packages"
      ]
    },
    {
      "cell_type": "code",
      "metadata": {
        "id": "xFWuifmbptjc"
      },
      "source": [
        "import numpy as np\r\n",
        "import matplotlib.pyplot as plt\r\n",
        "import pandas as pd\r\n",
        "import sklearn"
      ],
      "execution_count": 2,
      "outputs": []
    },
    {
      "cell_type": "markdown",
      "metadata": {
        "id": "d6pig56MsvHL"
      },
      "source": [
        "## Importing Pre-Trained model"
      ]
    },
    {
      "cell_type": "code",
      "metadata": {
        "colab": {
          "base_uri": "https://localhost:8080/"
        },
        "id": "CDrcVEaXrlcP",
        "outputId": "88d59c21-0659-43ca-fbd0-0f8bffbe46f4"
      },
      "source": [
        "import keras\r\n",
        "from keras.applications.inception_v3 import InceptionV3\r\n",
        "from keras.models import Model,load_model\r\n",
        "# importing inception net from Keras with imagenet weights\r\n",
        "conv_base =  InceptionV3(weights='imagenet',include_top=False,input_shape=(300, 300, 3))"
      ],
      "execution_count": 3,
      "outputs": [
        {
          "output_type": "stream",
          "text": [
            "Downloading data from https://storage.googleapis.com/tensorflow/keras-applications/inception_v3/inception_v3_weights_tf_dim_ordering_tf_kernels_notop.h5\n",
            "87916544/87910968 [==============================] - 1s 0us/step\n"
          ],
          "name": "stdout"
        }
      ]
    },
    {
      "cell_type": "code",
      "metadata": {
        "id": "LbTb2UhttLim"
      },
      "source": [
        "output = conv_base.layers[-1].output\r\n",
        "output = keras.layers.Flatten()(output)\r\n",
        "model_tl = Model(conv_base.input, output)\r\n"
      ],
      "execution_count": 4,
      "outputs": []
    },
    {
      "cell_type": "code",
      "metadata": {
        "colab": {
          "base_uri": "https://localhost:8080/"
        },
        "id": "IJT4hcJqtp7Q",
        "outputId": "97ff70f9-3d72-4748-bec5-75cbb68d9f0f"
      },
      "source": [
        "model_tl.trainable = False\r\n",
        "for layer in model_tl.layers:\r\n",
        "  layer.trainable = False\r\n",
        "layers = [(layer, layer.name, layer.trainable) for layer in  model_tl.layers]\r\n",
        "model_layers=pd.DataFrame(layers, columns=['Layer Type', 'Layer Name', 'Layer Trainable'])\r\n",
        "print(model_layers) \r\n"
      ],
      "execution_count": 5,
      "outputs": [
        {
          "output_type": "stream",
          "text": [
            "                                            Layer Type  ... Layer Trainable\n",
            "0    <tensorflow.python.keras.engine.input_layer.In...  ...           False\n",
            "1    <tensorflow.python.keras.layers.convolutional....  ...           False\n",
            "2    <tensorflow.python.keras.layers.normalization_...  ...           False\n",
            "3    <tensorflow.python.keras.layers.core.Activatio...  ...           False\n",
            "4    <tensorflow.python.keras.layers.convolutional....  ...           False\n",
            "..                                                 ...  ...             ...\n",
            "307  <tensorflow.python.keras.layers.merge.Concaten...  ...           False\n",
            "308  <tensorflow.python.keras.layers.merge.Concaten...  ...           False\n",
            "309  <tensorflow.python.keras.layers.core.Activatio...  ...           False\n",
            "310  <tensorflow.python.keras.layers.merge.Concaten...  ...           False\n",
            "311  <tensorflow.python.keras.layers.core.Flatten o...  ...           False\n",
            "\n",
            "[312 rows x 3 columns]\n"
          ],
          "name": "stdout"
        }
      ]
    },
    {
      "cell_type": "markdown",
      "metadata": {
        "id": "UuOn5i0JuPVU"
      },
      "source": [
        "## Data Pre-Processing"
      ]
    },
    {
      "cell_type": "code",
      "metadata": {
        "id": "U0LO_BSJuO98"
      },
      "source": [
        "# Data Augmentation\r\n",
        "from keras.models import Sequential\r\n",
        "from keras.layers import Dense, Dropout, Conv2D, MaxPool2D, Flatten\r\n",
        "from keras.preprocessing.image import ImageDataGenerator\r\n",
        "from keras import optimizers"
      ],
      "execution_count": 6,
      "outputs": []
    },
    {
      "cell_type": "code",
      "metadata": {
        "id": "8JBwMyMPuCT4"
      },
      "source": [
        "test_size=400\r\n",
        "batch_size=32\r\n",
        "epochs=25"
      ],
      "execution_count": 7,
      "outputs": []
    },
    {
      "cell_type": "code",
      "metadata": {
        "id": "oixVg4STvFtp"
      },
      "source": [
        "test_path='/content/drive/MyDrive/DATA/Carnivores_Data/test'\r\n",
        "train_path='/content/drive/MyDrive/DATA/Carnivores_Data/train'"
      ],
      "execution_count": 8,
      "outputs": []
    },
    {
      "cell_type": "code",
      "metadata": {
        "id": "2gu38hPOwBW9"
      },
      "source": [
        "# Initiationg ImageDataGenerator on Keras\r\n",
        "target_size=(300,300) #resize all images to 300x300\r\n",
        "train_datagen = ImageDataGenerator(rescale=1./255, zoom_range=0.3,  \r\n",
        "rotation_range=50,\r\n",
        "width_shift_range=0.2, \r\n",
        " height_shift_range=0.2, \r\n",
        "shear_range=0.2,\r\n",
        "horizontal_flip=True,\r\n",
        "brightness_range = [0.8, 1.2],\r\n",
        "fill_mode='nearest',        \r\n",
        " validation_split=0.2)\r\n",
        "\r\n",
        "test_datagen = ImageDataGenerator(rescale=1./255)\r\n"
      ],
      "execution_count": 9,
      "outputs": []
    },
    {
      "cell_type": "code",
      "metadata": {
        "colab": {
          "base_uri": "https://localhost:8080/"
        },
        "id": "Fz1fL1HnwT_W",
        "outputId": "b367ed0b-1891-48ab-8383-59695c0519b9"
      },
      "source": [
        "# The list of classes will be automatically inferred from the subdirectory names/structure under train_dir\r\n",
        "train_generator = train_datagen.flow_from_directory(\r\n",
        "train_path,\r\n",
        "target_size=target_size,#  \r\n",
        "batch_size=batch_size,\r\n",
        "class_mode='categorical',\r\n",
        "subset='training')\r\n",
        "validation_generator = train_datagen.flow_from_directory(\r\n",
        "train_path,\r\n",
        "target_size=target_size,\r\n",
        "batch_size=batch_size,\r\n",
        "class_mode='categorical',\r\n",
        "subset='validation')"
      ],
      "execution_count": 10,
      "outputs": [
        {
          "output_type": "stream",
          "text": [
            "Found 2899 images belonging to 1 classes.\n",
            "Found 724 images belonging to 1 classes.\n"
          ],
          "name": "stdout"
        }
      ]
    },
    {
      "cell_type": "markdown",
      "metadata": {
        "id": "Yv3SdvMFx8eB"
      },
      "source": [
        "## Building Model Architecture"
      ]
    },
    {
      "cell_type": "code",
      "metadata": {
        "colab": {
          "base_uri": "https://localhost:8080/"
        },
        "id": "Q8t22fKowt3y",
        "outputId": "965f280d-0f73-443f-c2b6-1e7b98f3a6f9"
      },
      "source": [
        "from keras.models import Sequential\r\n",
        "from keras.layers import Dense, Dropout, Conv2D, MaxPool2D, Flatten\r\n",
        "from keras import optimizers\r\n",
        "# building a linear stack of layers with the sequential model\r\n",
        "model =Sequential()\r\n",
        "model.add(model_tl)\r\n",
        "# hidden layer\r\n",
        "model.add(Dense(128, activation='relu'))\r\n",
        "model.add(Dropout(0.2))\r\n",
        "# output layer\r\n",
        "model.add(Dense(4, activation='softmax'))\r\n",
        "# compiling the sequential model\r\n",
        "model.compile(loss='categorical_crossentropy',optimizer=optimizers.RMSprop(lr=1e-4),metrics=['acc'])\r\n",
        "print(model.summary())"
      ],
      "execution_count": 11,
      "outputs": [
        {
          "output_type": "stream",
          "text": [
            "Model: \"sequential\"\n",
            "_________________________________________________________________\n",
            "Layer (type)                 Output Shape              Param #   \n",
            "=================================================================\n",
            "model (Functional)           (None, 131072)            21802784  \n",
            "_________________________________________________________________\n",
            "dense (Dense)                (None, 128)               16777344  \n",
            "_________________________________________________________________\n",
            "dropout (Dropout)            (None, 128)               0         \n",
            "_________________________________________________________________\n",
            "dense_1 (Dense)              (None, 4)                 516       \n",
            "=================================================================\n",
            "Total params: 38,580,644\n",
            "Trainable params: 16,777,860\n",
            "Non-trainable params: 21,802,784\n",
            "_________________________________________________________________\n",
            "None\n"
          ],
          "name": "stdout"
        }
      ]
    },
    {
      "cell_type": "markdown",
      "metadata": {
        "id": "mXmUneWTyVB3"
      },
      "source": [
        "Creating Checkpoints so to recover if sessiosn is disconected"
      ]
    },
    {
      "cell_type": "code",
      "metadata": {
        "id": "bGGGYkBByKhz"
      },
      "source": [
        "from keras.callbacks import *\r\n",
        "filepath=\"/content/drive/My Drive/MyCNN/epochs:{epoch:03d}-val_acc: {val_acc:.3f}.hdf5\"\r\n",
        "checkpoint = ModelCheckpoint(filepath,monitor='val_acc',verbose=1,save_best_only=False,save_freq='epoch',mode='max')\r\n",
        "callbacks_list = [checkpoint]"
      ],
      "execution_count": 12,
      "outputs": []
    },
    {
      "cell_type": "markdown",
      "metadata": {
        "id": "-CZuM1rhy4av"
      },
      "source": [
        "## Training the model"
      ]
    },
    {
      "cell_type": "code",
      "metadata": {
        "colab": {
          "base_uri": "https://localhost:8080/"
        },
        "id": "KURmktTkylkM",
        "outputId": "ee066903-5c0e-46a3-a1b2-772800f791f6"
      },
      "source": [
        "history = model.fit(train_generator,steps_per_epoch=train_generator.samples//batch_size,validation_data=validation_generator,\r\n",
        "validation_steps=validation_generator.samples//batch_size,\r\n",
        "epochs=epochs,verbose=1,shuffle=True,callbacks=callbacks_list)"
      ],
      "execution_count": 12,
      "outputs": [
        {
          "output_type": "stream",
          "text": [
            "Epoch 1/25\n",
            "90/90 [==============================] - 2024s 22s/step - loss: 148.1843 - acc: 0.1965 - val_loss: 91.9612 - val_acc: 0.0000e+00\n",
            "\n",
            "Epoch 00001: saving model to /content/drive/My Drive/MyCNN/epochs:001-val_acc: 0.000.hdf5\n",
            "Epoch 2/25\n",
            "90/90 [==============================] - 92s 1s/step - loss: 603.7670 - acc: 0.1700 - val_loss: 236.4824 - val_acc: 0.0000e+00\n",
            "\n",
            "Epoch 00002: saving model to /content/drive/My Drive/MyCNN/epochs:002-val_acc: 0.000.hdf5\n",
            "Epoch 3/25\n",
            "90/90 [==============================] - 92s 1s/step - loss: 1097.3160 - acc: 0.1713 - val_loss: 321.8528 - val_acc: 0.0000e+00\n",
            "\n",
            "Epoch 00003: saving model to /content/drive/My Drive/MyCNN/epochs:003-val_acc: 0.000.hdf5\n",
            "Epoch 4/25\n",
            "90/90 [==============================] - 92s 1s/step - loss: 1583.3228 - acc: 0.1325 - val_loss: 470.8393 - val_acc: 0.0000e+00\n",
            "\n",
            "Epoch 00004: saving model to /content/drive/My Drive/MyCNN/epochs:004-val_acc: 0.000.hdf5\n",
            "Epoch 5/25\n",
            "90/90 [==============================] - 92s 1s/step - loss: 2065.5842 - acc: 0.1427 - val_loss: 616.4159 - val_acc: 0.0000e+00\n",
            "\n",
            "Epoch 00005: saving model to /content/drive/My Drive/MyCNN/epochs:005-val_acc: 0.000.hdf5\n",
            "Epoch 6/25\n",
            "90/90 [==============================] - 92s 1s/step - loss: 2652.8608 - acc: 0.1358 - val_loss: 774.7939 - val_acc: 0.0000e+00\n",
            "\n",
            "Epoch 00006: saving model to /content/drive/My Drive/MyCNN/epochs:006-val_acc: 0.000.hdf5\n",
            "Epoch 7/25\n",
            "90/90 [==============================] - 92s 1s/step - loss: 3201.9493 - acc: 0.1296 - val_loss: 909.2307 - val_acc: 0.0000e+00\n",
            "\n",
            "Epoch 00007: saving model to /content/drive/My Drive/MyCNN/epochs:007-val_acc: 0.000.hdf5\n",
            "Epoch 8/25\n",
            "90/90 [==============================] - 92s 1s/step - loss: 3768.7827 - acc: 0.1306 - val_loss: 1053.8937 - val_acc: 0.0000e+00\n",
            "\n",
            "Epoch 00008: saving model to /content/drive/My Drive/MyCNN/epochs:008-val_acc: 0.000.hdf5\n",
            "Epoch 9/25\n",
            "90/90 [==============================] - 93s 1s/step - loss: 4222.3206 - acc: 0.1278 - val_loss: 1258.6543 - val_acc: 0.0000e+00\n",
            "\n",
            "Epoch 00009: saving model to /content/drive/My Drive/MyCNN/epochs:009-val_acc: 0.000.hdf5\n",
            "Epoch 10/25\n",
            "90/90 [==============================] - 93s 1s/step - loss: 4803.2821 - acc: 0.1355 - val_loss: 1374.2366 - val_acc: 0.0000e+00\n",
            "\n",
            "Epoch 00010: saving model to /content/drive/My Drive/MyCNN/epochs:010-val_acc: 0.000.hdf5\n",
            "Epoch 11/25\n",
            "90/90 [==============================] - 92s 1s/step - loss: 5312.7254 - acc: 0.1428 - val_loss: 1554.6561 - val_acc: 0.0000e+00\n",
            "\n",
            "Epoch 00011: saving model to /content/drive/My Drive/MyCNN/epochs:011-val_acc: 0.000.hdf5\n",
            "Epoch 12/25\n",
            "90/90 [==============================] - 92s 1s/step - loss: 5859.3771 - acc: 0.1307 - val_loss: 1739.8276 - val_acc: 0.0000e+00\n",
            "\n",
            "Epoch 00012: saving model to /content/drive/My Drive/MyCNN/epochs:012-val_acc: 0.000.hdf5\n",
            "Epoch 13/25\n",
            "90/90 [==============================] - 93s 1s/step - loss: 6453.4498 - acc: 0.1207 - val_loss: 1860.6699 - val_acc: 0.0000e+00\n",
            "\n",
            "Epoch 00013: saving model to /content/drive/My Drive/MyCNN/epochs:013-val_acc: 0.000.hdf5\n",
            "Epoch 14/25\n",
            "90/90 [==============================] - 92s 1s/step - loss: 6848.8848 - acc: 0.1182 - val_loss: 2062.0024 - val_acc: 0.0000e+00\n",
            "\n",
            "Epoch 00014: saving model to /content/drive/My Drive/MyCNN/epochs:014-val_acc: 0.000.hdf5\n",
            "Epoch 15/25\n",
            "90/90 [==============================] - 92s 1s/step - loss: 7373.5632 - acc: 0.1127 - val_loss: 2202.4551 - val_acc: 0.0000e+00\n",
            "\n",
            "Epoch 00015: saving model to /content/drive/My Drive/MyCNN/epochs:015-val_acc: 0.000.hdf5\n",
            "Epoch 16/25\n",
            "90/90 [==============================] - 92s 1s/step - loss: 7905.7311 - acc: 0.1279 - val_loss: 2264.0811 - val_acc: 0.0000e+00\n",
            "\n",
            "Epoch 00016: saving model to /content/drive/My Drive/MyCNN/epochs:016-val_acc: 0.000.hdf5\n",
            "Epoch 17/25\n",
            "90/90 [==============================] - 92s 1s/step - loss: 8325.1902 - acc: 0.1234 - val_loss: 2518.1624 - val_acc: 0.0000e+00\n",
            "\n",
            "Epoch 00017: saving model to /content/drive/My Drive/MyCNN/epochs:017-val_acc: 0.000.hdf5\n",
            "Epoch 18/25\n",
            "90/90 [==============================] - 92s 1s/step - loss: 8902.3100 - acc: 0.1310 - val_loss: 2586.5525 - val_acc: 0.0000e+00\n",
            "\n",
            "Epoch 00018: saving model to /content/drive/My Drive/MyCNN/epochs:018-val_acc: 0.000.hdf5\n",
            "Epoch 19/25\n",
            "90/90 [==============================] - 92s 1s/step - loss: 9640.0027 - acc: 0.1349 - val_loss: 2813.1936 - val_acc: 0.0000e+00\n",
            "\n",
            "Epoch 00019: saving model to /content/drive/My Drive/MyCNN/epochs:019-val_acc: 0.000.hdf5\n",
            "Epoch 20/25\n",
            "90/90 [==============================] - 92s 1s/step - loss: 9960.8661 - acc: 0.1288 - val_loss: 2932.1553 - val_acc: 0.0000e+00\n",
            "\n",
            "Epoch 00020: saving model to /content/drive/My Drive/MyCNN/epochs:020-val_acc: 0.000.hdf5\n",
            "Epoch 21/25\n",
            "90/90 [==============================] - 93s 1s/step - loss: 10641.7787 - acc: 0.1208 - val_loss: 3001.8127 - val_acc: 0.0000e+00\n",
            "\n",
            "Epoch 00021: saving model to /content/drive/My Drive/MyCNN/epochs:021-val_acc: 0.000.hdf5\n",
            "Epoch 22/25\n",
            "90/90 [==============================] - 92s 1s/step - loss: 10888.4911 - acc: 0.1349 - val_loss: 3143.0149 - val_acc: 0.0000e+00\n",
            "\n",
            "Epoch 00022: saving model to /content/drive/My Drive/MyCNN/epochs:022-val_acc: 0.000.hdf5\n",
            "Epoch 23/25\n",
            "90/90 [==============================] - 93s 1s/step - loss: 11681.3518 - acc: 0.1280 - val_loss: 3249.7017 - val_acc: 0.0000e+00\n",
            "\n",
            "Epoch 00023: saving model to /content/drive/My Drive/MyCNN/epochs:023-val_acc: 0.000.hdf5\n",
            "Epoch 24/25\n",
            "90/90 [==============================] - 93s 1s/step - loss: 12201.4201 - acc: 0.1244 - val_loss: 3340.7976 - val_acc: 0.0000e+00\n",
            "\n",
            "Epoch 00024: saving model to /content/drive/My Drive/MyCNN/epochs:024-val_acc: 0.000.hdf5\n",
            "Epoch 25/25\n",
            "90/90 [==============================] - 92s 1s/step - loss: 12702.6100 - acc: 0.1347 - val_loss: 3465.4170 - val_acc: 0.0000e+00\n",
            "\n",
            "Epoch 00025: saving model to /content/drive/My Drive/MyCNN/epochs:025-val_acc: 0.000.hdf5\n"
          ],
          "name": "stdout"
        }
      ]
    },
    {
      "cell_type": "markdown",
      "metadata": {
        "id": "IDxhKcbG3Coz"
      },
      "source": [
        "## Model Performance"
      ]
    },
    {
      "cell_type": "code",
      "metadata": {
        "colab": {
          "base_uri": "https://localhost:8080/"
        },
        "id": "7Kxf25szzgnl",
        "outputId": "1ed7c66b-f5c4-4b1b-b007-0d6e9b1afa21"
      },
      "source": [
        "# Model evaluation\r\n",
        "scores_train = model.evaluate(train_generator,verbose=1)\r\n",
        "scores_validation = model.evaluate(validation_generator,verbose=1)\r\n",
        "print(\"Train Accuracy: %.2f%%\" % (scores_train[1]*100))\r\n",
        "print(\"Validation Accuracy: %.2f%%\" % (scores_validation[1]*100))\r\n",
        "#For plotting Accuracy and Loss\r\n",
        "def LearningCurve(history):\r\n",
        "  # summarize history for accuracy\r\n",
        "  plt.plot(history.history['acc'])\r\n",
        "  plt.plot(history.history['val_acc'])\r\n",
        "  plt.title('model accuracy')\r\n",
        "  plt.ylabel('accuracy')\r\n",
        "  plt.xlabel('epoch')\r\n",
        "  plt.legend(['train', 'validation'], loc='upper left')\r\n",
        "  plt.show()\r\n",
        "  # summarize history for loss\r\n",
        "  plt.plot(history.history['loss'])\r\n",
        "  plt.plot(history.history['val_loss'])\r\n",
        "  plt.title('model loss')\r\n",
        "  plt.ylabel('loss')\r\n",
        "  plt.xlabel('epoch')\r\n",
        "  plt.legend(['train', 'validation'], loc='upper left')\r\n",
        "  plt.show()\r\n",
        "  LearningCurve(history)\r\n"
      ],
      "execution_count": 13,
      "outputs": [
        {
          "output_type": "stream",
          "text": [
            "91/91 [==============================] - 1906s 21s/step - loss: 7.1589 - acc: 0.9216\n",
            "23/23 [==============================] - 341s 15s/step - loss: 7.4967 - acc: 0.9738\n",
            "Train Accuracy: 92.31%\n",
            "Validation Accuracy: 97.38%\n"
          ],
          "name": "stdout"
        }
      ]
    },
    {
      "cell_type": "code",
      "metadata": {
        "id": "Z7NJzBjA5286"
      },
      "source": [
        "  #Save the trained model to a file \r\n",
        "  model_weight_file='/content/drive/MyDrive/MyCNN/carnivores_tlearn_img_aug_cnn.h5'\r\n",
        "  model.save(model_weight_file)\r\n"
      ],
      "execution_count": 17,
      "outputs": []
    },
    {
      "cell_type": "markdown",
      "metadata": {
        "id": "Nx3c6ILA30kR"
      },
      "source": [
        "## Making Predictions"
      ]
    },
    {
      "cell_type": "code",
      "metadata": {
        "colab": {
          "base_uri": "https://localhost:8080/",
          "height": 848
        },
        "id": "x_bUpmW63zbi",
        "outputId": "a5208033-a0f7-4e07-f31a-a807393b24e5"
      },
      "source": [
        "# We take the ceiling because we do not drop the remainder of the batch\r\n",
        "import math\r\n",
        "compute_steps_per_epoch = lambda x: int(math.ceil(1. * x / batch_size))\r\n",
        "test_steps = compute_steps_per_epoch(test_size)\r\n",
        "test_generator = test_datagen.flow_from_directory(\r\n",
        "                 test_path,\r\n",
        "                 target_size=target_size, \r\n",
        "                 batch_size=batch_size,\r\n",
        "                 class_mode=None,\r\n",
        "                 shuffle=False)\r\n",
        "test_generator.reset()\r\n",
        "#Calling the saved model for making predictions\r\n",
        "tl_img_aug_cnn = load_model(model_weight_file)\r\n",
        "pred=tl_img_aug_cnn.predict(test_generator,\r\n",
        "                            verbose=1,\r\n",
        "                            steps=test_steps)\r\n",
        "predicted_class_indices=np.argmax(pred,axis=1)\r\n",
        "labels = (test_generator.class_indices)\r\n",
        "labels = dict((v,k) for k,v in labels.items())\r\n",
        "predictions = [labels[k] for k in predicted_class_indices]\r\n",
        "filenames=test_generator.filenames\r\n",
        "results=pd.DataFrame({\"Filename\":filenames,\r\n",
        "                      \"Predictions\":predictions})\r\n",
        "#create a function for visualizing model performance\r\n",
        "import seaborn as sns\r\n",
        "def PerformanceReports(conf_matrix,class_report,labels):\r\n",
        "    ax= plt.subplot()\r\n",
        "    sns.heatmap(conf_matrix, annot=True,ax=ax)\r\n",
        "    #labels, title and ticks\r\n",
        "    ax.set_xlabel('Predicted labels')\r\n",
        "    ax.set_ylabel('True labels')\r\n",
        "    ax.set_title('Confusion Matrix')\r\n",
        "    ax.xaxis.set_ticklabels(labels)\r\n",
        "    ax.yaxis.set_ticklabels(labels)\r\n",
        "    plt.show()\r\n",
        "    ax= plt.subplot()\r\n",
        "    sns.heatmap(pd.DataFrame(class_report).iloc[:-1, :].T,  \r\n",
        "                annot=True,ax=ax)\r\n",
        "    ax.set_title('Classification Report')\r\n",
        "    plt.show()\r\n",
        "from sklearn.metrics import confusion_matrix,classification_report,accuracy_score\r\n",
        "labels=['cheetah','hyena','jaguar','tiger']\r\n",
        "test_labels = [fn.split('/')[0] for fn in filenames]\r\n",
        "cm=confusion_matrix(test_labels,predictions)\r\n",
        "print(cm)\r\n",
        "cr=classification_report(test_labels, predictions)\r\n",
        "class_report=classification_report(test_labels, predictions,\r\n",
        "                                   target_names=labels,\r\n",
        "                                   output_dict=True)\r\n",
        "print(cr)\r\n",
        "PerformanceReports(cm,class_report,labels)"
      ],
      "execution_count": 18,
      "outputs": [
        {
          "output_type": "stream",
          "text": [
            "Found 400 images belonging to 4 classes.\n",
            "13/13 [==============================] - 254s 21s/step\n",
            "[[100   0   0   0]\n",
            " [ 94   3   2   1]\n",
            " [ 92   0   8   0]\n",
            " [ 96   0   0   4]]\n",
            "              precision    recall  f1-score   support\n",
            "\n",
            "     cheetah       0.26      1.00      0.41       100\n",
            "       hyena       1.00      0.03      0.06       100\n",
            "      jaguar       0.80      0.08      0.15       100\n",
            "       tiger       0.80      0.04      0.08       100\n",
            "\n",
            "    accuracy                           0.29       400\n",
            "   macro avg       0.72      0.29      0.17       400\n",
            "weighted avg       0.72      0.29      0.17       400\n",
            "\n"
          ],
          "name": "stdout"
        },
        {
          "output_type": "display_data",
          "data": {
            "image/png": "[encoded data removed]",
            "text/plain": [
              "<Figure size 432x288 with 2 Axes>"
            ]
          },
          "metadata": {
            "tags": [],
            "needs_background": "light"
          }
        },
        {
          "output_type": "display_data",
          "data": {
            "image/png": "[encoded data removed]",
            "text/plain": [
              "<Figure size 432x288 with 2 Axes>"
            ]
          },
          "metadata": {
            "tags": [],
            "needs_background": "light"
          }
        }
      ]
    },
    {
      "cell_type": "code",
      "metadata": {
        "id": "K4HSoBqf3vxe"
      },
      "source": [
        ""
      ],
      "execution_count": null,
      "outputs": []
    }
  ]
}