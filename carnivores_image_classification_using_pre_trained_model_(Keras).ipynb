{
  "nbformat": 4,
  "nbformat_minor": 0,
  "metadata": {
    "colab": {
      "name": "carnivores-image-classification-using-pre-trained_model_(Keras).ipynb",
      "provenance": [],
      "toc_visible": true,
      "mount_file_id": "1GnQFAnKJocRSvqUrOmUYjOo3beL1Ke1a",
      "authorship_tag": "ABX9TyOqEaQrer+uynKTsMggQX+h",
      "include_colab_link": true
    },
    "kernelspec": {
      "name": "python3",
      "display_name": "Python 3"
    }
  },
  "cells": [
    {
      "cell_type": "markdown",
      "metadata": {
        "id": "view-in-github",
        "colab_type": "text"
      },
      "source": [
        "<a href=\"https://colab.research.google.com/github/gentleman101/Deep_Learning/blob/main/carnivores_image_classification_using_pre_trained_model_(Keras).ipynb\" target=\"_parent\"><img src=\"https://colab.research.google.com/assets/colab-badge.svg\" alt=\"Open In Colab\"/></a>"
      ]
    },
    {
      "cell_type": "markdown",
      "metadata": {
        "id": "Ju7inlzmrK1s"
      },
      "source": [
        "# Importing Necessary Packages"
      ]
    },
    {
      "cell_type": "code",
      "metadata": {
        "id": "xFWuifmbptjc"
      },
      "source": [
        "import numpy as np\r\n",
        "import matplotlib.pyplot as plt\r\n",
        "import pandas as pd\r\n",
        "import sklearn"
      ],
      "execution_count": 2,
      "outputs": []
    },
    {
      "cell_type": "markdown",
      "metadata": {
        "id": "d6pig56MsvHL"
      },
      "source": [
        "## Importing Pre-Trained model"
      ]
    },
    {
      "cell_type": "code",
      "metadata": {
        "colab": {
          "base_uri": "https://localhost:8080/"
        },
        "id": "CDrcVEaXrlcP",
        "outputId": "6246e2c9-d7c5-4bba-ec83-b7b594195fb4"
      },
      "source": [
        "import keras\r\n",
        "from keras.applications.inception_v3 import InceptionV3\r\n",
        "from keras.models import Model,load_model\r\n",
        "# importing inception net from Keras with imagenet weights\r\n",
        "conv_base =  InceptionV3(weights='imagenet',include_top=False,input_shape=(300, 300, 3))"
      ],
      "execution_count": 4,
      "outputs": [
        {
          "output_type": "stream",
          "text": [
            "Downloading data from https://storage.googleapis.com/tensorflow/keras-applications/inception_v3/inception_v3_weights_tf_dim_ordering_tf_kernels_notop.h5\n",
            "87916544/87910968 [==============================] - 4s 0us/step\n"
          ],
          "name": "stdout"
        }
      ]
    },
    {
      "cell_type": "code",
      "metadata": {
        "id": "LbTb2UhttLim"
      },
      "source": [
        "output = conv_base.layers[-1].output\r\n",
        "output = keras.layers.Flatten()(output)\r\n",
        "model_tl = Model(conv_base.input, output)\r\n"
      ],
      "execution_count": 5,
      "outputs": []
    },
    {
      "cell_type": "code",
      "metadata": {
        "colab": {
          "base_uri": "https://localhost:8080/"
        },
        "id": "IJT4hcJqtp7Q",
        "outputId": "a0cc4897-1fb1-45b6-8149-95a7f0a74319"
      },
      "source": [
        "model_tl.trainable = False\r\n",
        "for layer in model_tl.layers:\r\n",
        "  layer.trainable = False\r\n",
        "layers = [(layer, layer.name, layer.trainable) for layer in  model_tl.layers]\r\n",
        "model_layers=pd.DataFrame(layers, columns=['Layer Type', 'Layer Name', 'Layer Trainable'])\r\n",
        "print(model_layers) \r\n"
      ],
      "execution_count": 6,
      "outputs": [
        {
          "output_type": "stream",
          "text": [
            "                                            Layer Type  ... Layer Trainable\n",
            "0    <tensorflow.python.keras.engine.input_layer.In...  ...           False\n",
            "1    <tensorflow.python.keras.layers.convolutional....  ...           False\n",
            "2    <tensorflow.python.keras.layers.normalization_...  ...           False\n",
            "3    <tensorflow.python.keras.layers.core.Activatio...  ...           False\n",
            "4    <tensorflow.python.keras.layers.convolutional....  ...           False\n",
            "..                                                 ...  ...             ...\n",
            "307  <tensorflow.python.keras.layers.merge.Concaten...  ...           False\n",
            "308  <tensorflow.python.keras.layers.merge.Concaten...  ...           False\n",
            "309  <tensorflow.python.keras.layers.core.Activatio...  ...           False\n",
            "310  <tensorflow.python.keras.layers.merge.Concaten...  ...           False\n",
            "311  <tensorflow.python.keras.layers.core.Flatten o...  ...           False\n",
            "\n",
            "[312 rows x 3 columns]\n"
          ],
          "name": "stdout"
        }
      ]
    },
    {
      "cell_type": "markdown",
      "metadata": {
        "id": "UuOn5i0JuPVU"
      },
      "source": [
        "## Data Pre-Processing"
      ]
    },
    {
      "cell_type": "code",
      "metadata": {
        "id": "U0LO_BSJuO98"
      },
      "source": [
        "# Data Augmentation\r\n",
        "from keras.models import Sequential\r\n",
        "from keras.layers import Dense, Dropout, Conv2D, MaxPool2D, Flatten\r\n",
        "from keras.preprocessing.image import ImageDataGenerator\r\n",
        "from keras import optimizers"
      ],
      "execution_count": 7,
      "outputs": []
    },
    {
      "cell_type": "code",
      "metadata": {
        "id": "8JBwMyMPuCT4"
      },
      "source": [
        "test_size=400\r\n",
        "batch_size=32\r\n",
        "epochs=25"
      ],
      "execution_count": 8,
      "outputs": []
    },
    {
      "cell_type": "code",
      "metadata": {
        "id": "oixVg4STvFtp"
      },
      "source": [
        "test_path='/content/drive/MyDrive/DATA/Carnivores_Data/test'\r\n",
        "train_path='/content/drive/MyDrive/DATA/Carnivores_Data/train'"
      ],
      "execution_count": 10,
      "outputs": []
    },
    {
      "cell_type": "code",
      "metadata": {
        "id": "2gu38hPOwBW9"
      },
      "source": [
        "# Initiationg ImageDataGenerator on Keras\r\n",
        "target_size=(300,300) #resize all images to 300x300\r\n",
        "train_datagen = ImageDataGenerator(rescale=1./255, zoom_range=0.3,  \r\n",
        "rotation_range=50,\r\n",
        "width_shift_range=0.2, \r\n",
        " height_shift_range=0.2, \r\n",
        "shear_range=0.2,\r\n",
        "horizontal_flip=True,\r\n",
        "brightness_range = [0.8, 1.2],\r\n",
        "fill_mode='nearest',        \r\n",
        " validation_split=0.2)\r\n",
        "\r\n",
        "test_datagen = ImageDataGenerator(rescale=1./255)\r\n"
      ],
      "execution_count": 17,
      "outputs": []
    },
    {
      "cell_type": "code",
      "metadata": {
        "colab": {
          "base_uri": "https://localhost:8080/"
        },
        "id": "Fz1fL1HnwT_W",
        "outputId": "55c88430-f343-4e75-9e21-3dc11845f863"
      },
      "source": [
        "# The list of classes will be automatically inferred from the subdirectory names/structure under train_dir\r\n",
        "train_generator = train_datagen.flow_from_directory(\r\n",
        "train_path,\r\n",
        "target_size=target_size,#  \r\n",
        "batch_size=batch_size,\r\n",
        "class_mode='categorical',\r\n",
        "subset='training')\r\n",
        "validation_generator = train_datagen.flow_from_directory(\r\n",
        "train_path,\r\n",
        "target_size=target_size,\r\n",
        "batch_size=batch_size,\r\n",
        "class_mode='categorical',\r\n",
        "subset='validation')"
      ],
      "execution_count": 18,
      "outputs": [
        {
          "output_type": "stream",
          "text": [
            "Found 2899 images belonging to 1 classes.\n",
            "Found 724 images belonging to 1 classes.\n"
          ],
          "name": "stdout"
        }
      ]
    },
    {
      "cell_type": "markdown",
      "metadata": {
        "id": "Yv3SdvMFx8eB"
      },
      "source": [
        "## Building Model Architecture"
      ]
    },
    {
      "cell_type": "code",
      "metadata": {
        "colab": {
          "base_uri": "https://localhost:8080/"
        },
        "id": "Q8t22fKowt3y",
        "outputId": "cbebee58-0bdf-47f1-b051-b57212c05e04"
      },
      "source": [
        "from keras.models import Sequential\r\n",
        "from keras.layers import Dense, Dropout, Conv2D, MaxPool2D, Flatten\r\n",
        "from keras import optimizers\r\n",
        "# building a linear stack of layers with the sequential model\r\n",
        "model =Sequential()\r\n",
        "model.add(model_tl)\r\n",
        "# hidden layer\r\n",
        "model.add(Dense(128, activation='relu'))\r\n",
        "model.add(Dropout(0.2))\r\n",
        "# output layer\r\n",
        "model.add(Dense(4, activation='softmax'))\r\n",
        "# compiling the sequential model\r\n",
        "model.compile(loss='categorical_crossentropy',optimizer=optimizers.RMSprop(lr=1e-4),metrics=['acc'])\r\n",
        "print(model.summary())"
      ],
      "execution_count": 19,
      "outputs": [
        {
          "output_type": "stream",
          "text": [
            "Model: \"sequential_1\"\n",
            "_________________________________________________________________\n",
            "Layer (type)                 Output Shape              Param #   \n",
            "=================================================================\n",
            "model (Functional)           (None, 131072)            21802784  \n",
            "_________________________________________________________________\n",
            "dense_2 (Dense)              (None, 128)               16777344  \n",
            "_________________________________________________________________\n",
            "dropout_1 (Dropout)          (None, 128)               0         \n",
            "_________________________________________________________________\n",
            "dense_3 (Dense)              (None, 4)                 516       \n",
            "=================================================================\n",
            "Total params: 38,580,644\n",
            "Trainable params: 16,777,860\n",
            "Non-trainable params: 21,802,784\n",
            "_________________________________________________________________\n",
            "None\n"
          ],
          "name": "stdout"
        }
      ]
    },
    {
      "cell_type": "markdown",
      "metadata": {
        "id": "mXmUneWTyVB3"
      },
      "source": [
        "Creating Checkpoints so to recover if sessiosn is disconected"
      ]
    },
    {
      "cell_type": "code",
      "metadata": {
        "id": "bGGGYkBByKhz"
      },
      "source": [
        "from keras.callbacks import *\r\n",
        "filepath=\"/content/drive/My Drive/MyCNN/epochs:{epoch:03d}-val_acc: {val_acc:.3f}.hdf5\"\r\n",
        "checkpoint = ModelCheckpoint(filepath,monitor='val_acc',verbose=1,save_best_only=False,save_freq='epoch',mode='max')\r\n",
        "callbacks_list = [checkpoint]"
      ],
      "execution_count": 20,
      "outputs": []
    },
    {
      "cell_type": "markdown",
      "metadata": {
        "id": "-CZuM1rhy4av"
      },
      "source": [
        "## Training the model"
      ]
    },
    {
      "cell_type": "code",
      "metadata": {
        "colab": {
          "base_uri": "https://localhost:8080/"
        },
        "id": "KURmktTkylkM",
        "outputId": "6c14db3c-e2ad-41ad-ea61-d05233d28dde"
      },
      "source": [
        "history = model.fit(train_generator,steps_per_epoch=train_generator.samples//batch_size,validation_data=validation_generator,\r\n",
        "validation_steps=validation_generator.samples//batch_size,\r\n",
        "epochs=epochs,verbose=1,shuffle=True,callbacks=callbacks_list)"
      ],
      "execution_count": null,
      "outputs": [
        {
          "output_type": "stream",
          "text": [
            "Epoch 1/25\n",
            " 9/90 [==>...........................] - ETA: 37:51 - loss: 37.1194 - acc: 0.3454"
          ],
          "name": "stdout"
        }
      ]
    },
    {
      "cell_type": "code",
      "metadata": {
        "id": "7Kxf25szzgnl"
      },
      "source": [
        ""
      ],
      "execution_count": null,
      "outputs": []
    }
  ]
}