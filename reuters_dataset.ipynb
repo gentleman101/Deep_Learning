{
  "nbformat": 4,
  "nbformat_minor": 0,
  "metadata": {
    "colab": {
      "name": "reuters_dataset.ipynb",
      "provenance": [],
      "authorship_tag": "ABX9TyPbVgu8HC5ipVwTpQaD55hL",
      "include_colab_link": true
    },
    "kernelspec": {
      "name": "python3",
      "display_name": "Python 3"
    }
  },
  "cells": [
    {
      "cell_type": "markdown",
      "metadata": {
        "id": "view-in-github",
        "colab_type": "text"
      },
      "source": [
        "<a href=\"https://colab.research.google.com/github/gentleman101/Deep_Learning/blob/main/reuters_dataset.ipynb\" target=\"_parent\"><img src=\"https://colab.research.google.com/assets/colab-badge.svg\" alt=\"Open In Colab\"/></a>"
      ]
    },
    {
      "cell_type": "markdown",
      "metadata": {
        "id": "pfcXNZLJa7W3"
      },
      "source": [
        "We will be working with the Reuters dataset, a set of short newswires and their topics, published by Reuters in 1986. It's a very simple, widely used toy dataset for text classification. There are 46 different topics; some topics are more represented than others, but each topic has at least 10 examples in the training set."
      ]
    },
    {
      "cell_type": "markdown",
      "metadata": {
        "id": "-FwE87xNbQ3X"
      },
      "source": [
        "# Importing necessary packages"
      ]
    },
    {
      "cell_type": "code",
      "metadata": {
        "id": "b3DGeIcCaf1B"
      },
      "source": [
        "import keras\r\n",
        "import numpy as np\r\n",
        "from keras.utils.np_utils import to_categorical\r\n",
        "from keras import models\r\n",
        "import copy\r\n"
      ],
      "execution_count": null,
      "outputs": []
    },
    {
      "cell_type": "markdown",
      "metadata": {
        "id": "rktdQH4kk046"
      },
      "source": [
        "## Loading Dataset"
      ]
    },
    {
      "cell_type": "code",
      "metadata": {
        "colab": {
          "base_uri": "https://localhost:8080/"
        },
        "id": "xyc_HK2kbrZU",
        "outputId": "71b0bfe6-310f-49be-e889-aa2fe173a82f"
      },
      "source": [
        "from keras.datasets import reuters\r\n",
        "\r\n",
        "(train_data, train_labels), (test_data, test_labels) = reuters.load_data(num_words=10000)"
      ],
      "execution_count": null,
      "outputs": [
        {
          "output_type": "stream",
          "text": [
            "Downloading data from https://storage.googleapis.com/tensorflow/tf-keras-datasets/reuters.npz\n",
            "2113536/2110848 [==============================] - 0s 0us/step\n"
          ],
          "name": "stdout"
        },
        {
          "output_type": "stream",
          "text": [
            "/usr/local/lib/python3.6/dist-packages/tensorflow/python/keras/datasets/reuters.py:148: VisibleDeprecationWarning: Creating an ndarray from ragged nested sequences (which is a list-or-tuple of lists-or-tuples-or ndarrays with different lengths or shapes) is deprecated. If you meant to do this, you must specify 'dtype=object' when creating the ndarray\n",
            "  x_train, y_train = np.array(xs[:idx]), np.array(labels[:idx])\n",
            "/usr/local/lib/python3.6/dist-packages/tensorflow/python/keras/datasets/reuters.py:149: VisibleDeprecationWarning: Creating an ndarray from ragged nested sequences (which is a list-or-tuple of lists-or-tuples-or ndarrays with different lengths or shapes) is deprecated. If you meant to do this, you must specify 'dtype=object' when creating the ndarray\n",
            "  x_test, y_test = np.array(xs[idx:]), np.array(labels[idx:])\n"
          ],
          "name": "stderr"
        }
      ]
    },
    {
      "cell_type": "code",
      "metadata": {
        "colab": {
          "base_uri": "https://localhost:8080/"
        },
        "id": "RcfD1aKVk6mz",
        "outputId": "9abb7545-c3d7-40f7-d2b0-cda9c3ddfc8d"
      },
      "source": [
        "train_data[10]\r\n"
      ],
      "execution_count": null,
      "outputs": [
        {
          "output_type": "execute_result",
          "data": {
            "text/plain": [
              "[1,\n",
              " 245,\n",
              " 273,\n",
              " 207,\n",
              " 156,\n",
              " 53,\n",
              " 74,\n",
              " 160,\n",
              " 26,\n",
              " 14,\n",
              " 46,\n",
              " 296,\n",
              " 26,\n",
              " 39,\n",
              " 74,\n",
              " 2979,\n",
              " 3554,\n",
              " 14,\n",
              " 46,\n",
              " 4689,\n",
              " 4329,\n",
              " 86,\n",
              " 61,\n",
              " 3499,\n",
              " 4795,\n",
              " 14,\n",
              " 61,\n",
              " 451,\n",
              " 4329,\n",
              " 17,\n",
              " 12]"
            ]
          },
          "metadata": {
            "tags": []
          },
          "execution_count": 4
        }
      ]
    },
    {
      "cell_type": "code",
      "metadata": {
        "colab": {
          "base_uri": "https://localhost:8080/"
        },
        "id": "DC_PJsydmR-H",
        "outputId": "39675b8a-2d60-4a0e-9a7a-fcbd680f3cb8"
      },
      "source": [
        "# Viewing a single wire\r\n",
        "\r\n",
        "word_index = reuters.get_word_index()\r\n",
        "reverse_word_index = dict([(value, key) for (key, value) in word_index.items()])\r\n",
        "# Note that our indices were offset by 3\r\n",
        "# because 0, 1 and 2 are reserved indices for \"padding\", \"start of sequence\", and \"unknown\".\r\n",
        "decoded_newswire = ' '.join([reverse_word_index.get(i - 3, '?') for i in train_data[0]])"
      ],
      "execution_count": null,
      "outputs": [
        {
          "output_type": "stream",
          "text": [
            "Downloading data from https://storage.googleapis.com/tensorflow/tf-keras-datasets/reuters_word_index.json\n",
            "557056/550378 [==============================] - 0s 0us/step\n"
          ],
          "name": "stdout"
        }
      ]
    },
    {
      "cell_type": "code",
      "metadata": {
        "colab": {
          "base_uri": "https://localhost:8080/",
          "height": 69
        },
        "id": "22_vhRhZnBqU",
        "outputId": "172927fd-b4bf-4e4a-e3fb-cd3d81d1cc2a"
      },
      "source": [
        "decoded_newswire\r\n"
      ],
      "execution_count": null,
      "outputs": [
        {
          "output_type": "execute_result",
          "data": {
            "application/vnd.google.colaboratory.intrinsic+json": {
              "type": "string"
            },
            "text/plain": [
              "'? ? ? said as a result of its december acquisition of space co it expects earnings per share in 1987 of 1 15 to 1 30 dlrs per share up from 70 cts in 1986 the company said pretax net should rise to nine to 10 mln dlrs from six mln dlrs in 1986 and rental operation revenues to 19 to 22 mln dlrs from 12 5 mln dlrs it said cash flow per share this year should be 2 50 to three dlrs reuter 3'"
            ]
          },
          "metadata": {
            "tags": []
          },
          "execution_count": 6
        }
      ]
    },
    {
      "cell_type": "markdown",
      "metadata": {
        "id": "u99unpSwoU6b"
      },
      "source": [
        "## Preparing the data"
      ]
    },
    {
      "cell_type": "code",
      "metadata": {
        "id": "4-_3IGHknERS"
      },
      "source": [
        "def vectorize_sequences(sequences, dimension=10000):\r\n",
        "    results = np.zeros((len(sequences), dimension))\r\n",
        "    for i, sequence in enumerate(sequences):\r\n",
        "        results[i, sequence] = 1.\r\n",
        "    return results\r\n",
        "\r\n",
        "# Our vectorized training data\r\n",
        "x_train = vectorize_sequences(train_data)\r\n",
        "# Our vectorized test data\r\n",
        "x_test = vectorize_sequences(test_data)"
      ],
      "execution_count": null,
      "outputs": []
    },
    {
      "cell_type": "code",
      "metadata": {
        "id": "dCv5wBUmoiba"
      },
      "source": [
        "def to_one_hot(labels, dimension=46):\r\n",
        "    results = np.zeros((len(labels), dimension))\r\n",
        "    for i, label in enumerate(labels):\r\n",
        "        results[i, label] = 1.\r\n",
        "    return results\r\n",
        "\r\n",
        "# Our vectorized training labels\r\n",
        "one_hot_train_labels = to_one_hot(train_labels)\r\n",
        "# Our vectorized test labels\r\n",
        "one_hot_test_labels = to_one_hot(test_labels)\r\n"
      ],
      "execution_count": null,
      "outputs": []
    },
    {
      "cell_type": "markdown",
      "metadata": {
        "id": "oFCaRVsJrEz1"
      },
      "source": [
        "## Building the network"
      ]
    },
    {
      "cell_type": "code",
      "metadata": {
        "id": "gQiKcuHNpoEx"
      },
      "source": [
        "from keras import layers\r\n",
        "model = models.Sequential()\r\n",
        "model.add(layers.Dense(64, activation='relu', input_shape=(10000,)))\r\n",
        "model.add(layers.Dense(64, activation='relu'))\r\n",
        "model.add(layers.Dense(46, activation='softmax'))"
      ],
      "execution_count": null,
      "outputs": []
    },
    {
      "cell_type": "code",
      "metadata": {
        "id": "-gByBvJ-rLLN"
      },
      "source": [
        "\r\n",
        "model.compile(optimizer='rmsprop',\r\n",
        "              loss='categorical_crossentropy',\r\n",
        "              metrics=['accuracy'])"
      ],
      "execution_count": null,
      "outputs": []
    },
    {
      "cell_type": "code",
      "metadata": {
        "id": "3LYi1Y9Mr_3F"
      },
      "source": [
        "## Validating the model\r\n",
        "\r\n",
        "x_val = x_train[:1000]\r\n",
        "partial_x_train = x_train[1000:]\r\n",
        "\r\n",
        "y_val = one_hot_train_labels[:1000]\r\n",
        "partial_y_train = one_hot_train_labels[1000:]"
      ],
      "execution_count": null,
      "outputs": []
    },
    {
      "cell_type": "code",
      "metadata": {
        "colab": {
          "base_uri": "https://localhost:8080/"
        },
        "id": "w0MqyRWJr8Hq",
        "outputId": "db82f330-f579-4517-d936-cdb950721bd1"
      },
      "source": [
        "history = model.fit(partial_x_train,\r\n",
        "                    partial_y_train,\r\n",
        "                    epochs=20,\r\n",
        "                    batch_size=512,\r\n",
        "                    validation_data=(x_val, y_val))"
      ],
      "execution_count": null,
      "outputs": [
        {
          "output_type": "stream",
          "text": [
            "Epoch 1/20\n",
            "16/16 [==============================] - 2s 62ms/step - loss: 3.2386 - accuracy: 0.3723 - val_loss: 1.8676 - val_accuracy: 0.6470\n",
            "Epoch 2/20\n",
            "16/16 [==============================] - 1s 48ms/step - loss: 1.6127 - accuracy: 0.6902 - val_loss: 1.3498 - val_accuracy: 0.7190\n",
            "Epoch 3/20\n",
            "16/16 [==============================] - 1s 48ms/step - loss: 1.1339 - accuracy: 0.7592 - val_loss: 1.1458 - val_accuracy: 0.7400\n",
            "Epoch 4/20\n",
            "16/16 [==============================] - 1s 46ms/step - loss: 0.8546 - accuracy: 0.8175 - val_loss: 1.0322 - val_accuracy: 0.7770\n",
            "Epoch 5/20\n",
            "16/16 [==============================] - 1s 46ms/step - loss: 0.6970 - accuracy: 0.8540 - val_loss: 0.9808 - val_accuracy: 0.7920\n",
            "Epoch 6/20\n",
            "16/16 [==============================] - 1s 47ms/step - loss: 0.5571 - accuracy: 0.8879 - val_loss: 0.9310 - val_accuracy: 0.7950\n",
            "Epoch 7/20\n",
            "16/16 [==============================] - 1s 47ms/step - loss: 0.4479 - accuracy: 0.9059 - val_loss: 0.9060 - val_accuracy: 0.8100\n",
            "Epoch 8/20\n",
            "16/16 [==============================] - 1s 47ms/step - loss: 0.3489 - accuracy: 0.9286 - val_loss: 0.9092 - val_accuracy: 0.8170\n",
            "Epoch 9/20\n",
            "16/16 [==============================] - 1s 46ms/step - loss: 0.2875 - accuracy: 0.9400 - val_loss: 0.8844 - val_accuracy: 0.8220\n",
            "Epoch 10/20\n",
            "16/16 [==============================] - 1s 48ms/step - loss: 0.2502 - accuracy: 0.9419 - val_loss: 0.8893 - val_accuracy: 0.8220\n",
            "Epoch 11/20\n",
            "16/16 [==============================] - 1s 47ms/step - loss: 0.2054 - accuracy: 0.9531 - val_loss: 0.9199 - val_accuracy: 0.8230\n",
            "Epoch 12/20\n",
            "16/16 [==============================] - 1s 56ms/step - loss: 0.1861 - accuracy: 0.9541 - val_loss: 0.9471 - val_accuracy: 0.8150\n",
            "Epoch 13/20\n",
            "16/16 [==============================] - 1s 47ms/step - loss: 0.1581 - accuracy: 0.9565 - val_loss: 0.9386 - val_accuracy: 0.8180\n",
            "Epoch 14/20\n",
            "16/16 [==============================] - 1s 48ms/step - loss: 0.1433 - accuracy: 0.9603 - val_loss: 0.9793 - val_accuracy: 0.8040\n",
            "Epoch 15/20\n",
            "16/16 [==============================] - 1s 47ms/step - loss: 0.1408 - accuracy: 0.9566 - val_loss: 1.0559 - val_accuracy: 0.7960\n",
            "Epoch 16/20\n",
            "16/16 [==============================] - 1s 46ms/step - loss: 0.1243 - accuracy: 0.9582 - val_loss: 0.9957 - val_accuracy: 0.8110\n",
            "Epoch 17/20\n",
            "16/16 [==============================] - 1s 47ms/step - loss: 0.1193 - accuracy: 0.9591 - val_loss: 1.0824 - val_accuracy: 0.7910\n",
            "Epoch 18/20\n",
            "16/16 [==============================] - 1s 47ms/step - loss: 0.1176 - accuracy: 0.9597 - val_loss: 1.0610 - val_accuracy: 0.8030\n",
            "Epoch 19/20\n",
            "16/16 [==============================] - 1s 47ms/step - loss: 0.1032 - accuracy: 0.9611 - val_loss: 1.0584 - val_accuracy: 0.8040\n",
            "Epoch 20/20\n",
            "16/16 [==============================] - 1s 46ms/step - loss: 0.1004 - accuracy: 0.9618 - val_loss: 1.0857 - val_accuracy: 0.7990\n"
          ],
          "name": "stdout"
        }
      ]
    },
    {
      "cell_type": "code",
      "metadata": {
        "colab": {
          "base_uri": "https://localhost:8080/",
          "height": 295
        },
        "id": "GI1wm25BsLvS",
        "outputId": "0bd1d4a0-7b20-45e7-8a4b-aa92520081c3"
      },
      "source": [
        "import matplotlib.pyplot as plt\r\n",
        "\r\n",
        "loss = history.history['loss']\r\n",
        "val_loss = history.history['val_loss']\r\n",
        "\r\n",
        "epochs = range(1, len(loss) + 1)\r\n",
        "\r\n",
        "plt.plot(epochs, loss, 'bo', label='Training loss')\r\n",
        "plt.plot(epochs, val_loss, 'b', label='Validation loss')\r\n",
        "plt.title('Training and validation loss')\r\n",
        "plt.xlabel('Epochs')\r\n",
        "plt.ylabel('Loss')\r\n",
        "plt.legend()\r\n",
        "\r\n",
        "plt.show()"
      ],
      "execution_count": null,
      "outputs": [
        {
          "output_type": "display_data",
          "data": {
            "image/png": "[encoded data removed]",
            "text/plain": [
              "<Figure size 432x288 with 1 Axes>"
            ]
          },
          "metadata": {
            "tags": [],
            "needs_background": "light"
          }
        }
      ]
    },
    {
      "cell_type": "code",
      "metadata": {
        "colab": {
          "base_uri": "https://localhost:8080/",
          "height": 295
        },
        "id": "7XZQciUDsSUL",
        "outputId": "9f108417-2087-4435-c2a9-c576b668012d"
      },
      "source": [
        "\r\n",
        "plt.clf()   # clear figure\r\n",
        "\r\n",
        "acc = history.history['accuracy']\r\n",
        "val_acc = history.history['val_accuracy']\r\n",
        "\r\n",
        "plt.plot(epochs, acc, 'bo', label='Training accuracy')\r\n",
        "plt.plot(epochs, val_acc, 'b', label='Validation accuracy')\r\n",
        "plt.title('Training and validation accuracy')\r\n",
        "plt.xlabel('Epochs')\r\n",
        "plt.ylabel('Loss')\r\n",
        "plt.legend()\r\n",
        "\r\n",
        "plt.show()"
      ],
      "execution_count": null,
      "outputs": [
        {
          "output_type": "display_data",
          "data": {
            "image/png": "[encoded data removed]",
            "text/plain": [
              "<Figure size 432x288 with 1 Axes>"
            ]
          },
          "metadata": {
            "tags": [],
            "needs_background": "light"
          }
        }
      ]
    },
    {
      "cell_type": "code",
      "metadata": {
        "id": "u8pEyEHisZGS"
      },
      "source": [
        ""
      ],
      "execution_count": null,
      "outputs": []
    }
  ]
}