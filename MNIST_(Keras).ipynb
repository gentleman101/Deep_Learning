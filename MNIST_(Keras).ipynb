{
  "nbformat": 4,
  "nbformat_minor": 0,
  "metadata": {
    "colab": {
      "name": "MNIST_(Keras).ipynb",
      "provenance": [],
      "authorship_tag": "ABX9TyN6ud+POImw+HzE//0tC5QQ",
      "include_colab_link": true
    },
    "kernelspec": {
      "name": "python3",
      "display_name": "Python 3"
    }
  },
  "cells": [
    {
      "cell_type": "markdown",
      "metadata": {
        "id": "view-in-github",
        "colab_type": "text"
      },
      "source": [
        "<a href=\"https://colab.research.google.com/github/gentleman101/Deep_Learning/blob/main/MNIST_(Keras).ipynb\" target=\"_parent\"><img src=\"https://colab.research.google.com/assets/colab-badge.svg\" alt=\"Open In Colab\"/></a>"
      ]
    },
    {
      "cell_type": "markdown",
      "metadata": {
        "id": "XNFcEEl9Ue9e"
      },
      "source": [
        "#Importing important packages"
      ]
    },
    {
      "cell_type": "code",
      "metadata": {
        "id": "P89GrWt3UCyA"
      },
      "source": [
        "from keras import layers\r\n",
        "from keras import models"
      ],
      "execution_count": 2,
      "outputs": []
    },
    {
      "cell_type": "code",
      "metadata": {
        "colab": {
          "base_uri": "https://localhost:8080/"
        },
        "id": "Ga5H59-bUpSc",
        "outputId": "2e929690-4ba4-4799-ca56-32c2a92f40fe"
      },
      "source": [
        "# importing dataset from keras\r\n",
        "from keras.datasets import mnist\r\n",
        "(train_images, train_labels), (test_images, test_labels)= mnist.load_data()"
      ],
      "execution_count": 3,
      "outputs": [
        {
          "output_type": "stream",
          "text": [
            "Downloading data from https://storage.googleapis.com/tensorflow/tf-keras-datasets/mnist.npz\n",
            "11493376/11490434 [==============================] - 0s 0us/step\n"
          ],
          "name": "stdout"
        }
      ]
    },
    {
      "cell_type": "code",
      "metadata": {
        "id": "G_I7MUu_VPSd"
      },
      "source": [
        "model = models.Sequential()\r\n",
        "model.add(layers.Conv2D(32, (3, 3), activation='relu', input_shape=(28, 28, 1)))\r\n",
        "model.add(layers.MaxPooling2D((2, 2)))\r\n",
        "model.add(layers.Conv2D(64, (3, 3), activation='relu'))\r\n",
        "model.add(layers.MaxPooling2D((2, 2)))\r\n",
        "model.add(layers.Conv2D(64, (3, 3), activation='relu'))"
      ],
      "execution_count": 5,
      "outputs": []
    },
    {
      "cell_type": "code",
      "metadata": {
        "colab": {
          "base_uri": "https://localhost:8080/"
        },
        "id": "uYgmF0CAXMHb",
        "outputId": "593e6efc-5c83-48f7-e70f-d79d6e539602"
      },
      "source": [
        "model.summary()\r\n"
      ],
      "execution_count": 6,
      "outputs": [
        {
          "output_type": "stream",
          "text": [
            "Model: \"sequential_1\"\n",
            "_________________________________________________________________\n",
            "Layer (type)                 Output Shape              Param #   \n",
            "=================================================================\n",
            "conv2d (Conv2D)              (None, 26, 26, 32)        320       \n",
            "_________________________________________________________________\n",
            "max_pooling2d (MaxPooling2D) (None, 13, 13, 32)        0         \n",
            "_________________________________________________________________\n",
            "conv2d_1 (Conv2D)            (None, 11, 11, 64)        18496     \n",
            "_________________________________________________________________\n",
            "max_pooling2d_1 (MaxPooling2 (None, 5, 5, 64)          0         \n",
            "_________________________________________________________________\n",
            "conv2d_2 (Conv2D)            (None, 3, 3, 64)          36928     \n",
            "=================================================================\n",
            "Total params: 55,744\n",
            "Trainable params: 55,744\n",
            "Non-trainable params: 0\n",
            "_________________________________________________________________\n"
          ],
          "name": "stdout"
        }
      ]
    },
    {
      "cell_type": "code",
      "metadata": {
        "id": "nfO15kN3Xt1o"
      },
      "source": [
        "# Flattening the output tensor\r\n",
        "model.add(layers.Flatten())\r\n",
        "model.add(layers.Dense(64, activation='relu'))\r\n",
        "model.add(layers.Dense(10, activation='softmax'))\r\n"
      ],
      "execution_count": 7,
      "outputs": []
    },
    {
      "cell_type": "markdown",
      "metadata": {
        "id": "bXP5SK8jYF4G"
      },
      "source": [
        "# Training the network"
      ]
    },
    {
      "cell_type": "code",
      "metadata": {
        "id": "PyuG9-RXYCkh"
      },
      "source": [
        "from keras.datasets import mnist\r\n",
        "from keras.utils import to_categorical\r\n",
        "\r\n",
        "train_images = train_images.reshape((60000, 28, 28, 1))\r\n",
        "train_images = train_images.astype('float32') / 255\r\n",
        "\r\n",
        "test_images = test_images.reshape((10000, 28, 28, 1))\r\n",
        "test_images = test_images.astype('float32') / 255\r\n",
        "\r\n",
        "train_labels = to_categorical(train_labels)\r\n",
        "test_labels = to_categorical(test_labels)"
      ],
      "execution_count": 8,
      "outputs": []
    },
    {
      "cell_type": "code",
      "metadata": {
        "colab": {
          "base_uri": "https://localhost:8080/"
        },
        "id": "fkNL0n2kYfRB",
        "outputId": "177d4616-c644-49ae-d539-5204655ebed8"
      },
      "source": [
        "#Compiling model\r\n",
        "model.compile(optimizer='rmsprop',\r\n",
        "              loss='categorical_crossentropy',\r\n",
        "              metrics=['accuracy'])\r\n",
        "model.fit(train_images, train_labels, epochs=5, batch_size=64)\r\n"
      ],
      "execution_count": 10,
      "outputs": [
        {
          "output_type": "stream",
          "text": [
            "Epoch 1/5\n",
            "938/938 [==============================] - 39s 41ms/step - loss: 0.3836 - accuracy: 0.8774\n",
            "Epoch 2/5\n",
            "938/938 [==============================] - 38s 41ms/step - loss: 0.0514 - accuracy: 0.9839\n",
            "Epoch 3/5\n",
            "938/938 [==============================] - 37s 40ms/step - loss: 0.0321 - accuracy: 0.9900\n",
            "Epoch 4/5\n",
            "938/938 [==============================] - 38s 40ms/step - loss: 0.0230 - accuracy: 0.9932\n",
            "Epoch 5/5\n",
            "938/938 [==============================] - 38s 40ms/step - loss: 0.0175 - accuracy: 0.9952\n"
          ],
          "name": "stdout"
        },
        {
          "output_type": "execute_result",
          "data": {
            "text/plain": [
              "<tensorflow.python.keras.callbacks.History at 0x7f89fd7c71d0>"
            ]
          },
          "metadata": {
            "tags": []
          },
          "execution_count": 10
        }
      ]
    },
    {
      "cell_type": "code",
      "metadata": {
        "id": "C7jOtk6gYjtJ"
      },
      "source": [
        ""
      ],
      "execution_count": null,
      "outputs": []
    }
  ]
}