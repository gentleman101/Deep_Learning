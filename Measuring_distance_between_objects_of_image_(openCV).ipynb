{
  "nbformat": 4,
  "nbformat_minor": 0,
  "metadata": {
    "colab": {
      "name": "Measuring_distance_between_objects_of_image_(openCV).ipynb",
      "provenance": [],
      "authorship_tag": "ABX9TyMcnW+S+L61042rq11l36Th",
      "include_colab_link": true
    },
    "kernelspec": {
      "name": "python3",
      "display_name": "Python 3"
    }
  },
  "cells": [
    {
      "cell_type": "markdown",
      "metadata": {
        "id": "view-in-github",
        "colab_type": "text"
      },
      "source": [
        "<a href=\"https://colab.research.google.com/github/gentleman101/Deep_Learning/blob/main/Measuring_distance_between_objects_of_image_(openCV).ipynb\" target=\"_parent\"><img src=\"https://colab.research.google.com/assets/colab-badge.svg\" alt=\"Open In Colab\"/></a>"
      ]
    },
    {
      "cell_type": "markdown",
      "metadata": {
        "id": "GU9S9lhnh0dP"
      },
      "source": [
        "## Importing necessary packages"
      ]
    },
    {
      "cell_type": "code",
      "metadata": {
        "id": "d1AbE8XR4Ovj"
      },
      "source": [
        "# Importing Necessary Packages\r\n",
        "from scipy.spatial import distance as dist\r\n",
        "from imutils import perspective\r\n",
        "from imutils import contours\r\n",
        "import numpy as np\r\n",
        "import argparse\r\n",
        "import imutils\r\n",
        "import cv2\r\n"
      ],
      "execution_count": 1,
      "outputs": []
    },
    {
      "cell_type": "code",
      "metadata": {
        "id": "bYryAek9dhhu"
      },
      "source": [
        "# Defining a function to measure mid point\r\n",
        "def midpoint(ptA, ptB):\r\n",
        "\treturn ((ptA[0] + ptB[0]) * 0.5, (ptA[1] + ptB[1]) * 0.5)"
      ],
      "execution_count": 2,
      "outputs": []
    },
    {
      "cell_type": "code",
      "metadata": {
        "colab": {
          "base_uri": "https://localhost:8080/",
          "height": 180
        },
        "id": "MhFXiK1Dd2FS",
        "outputId": "58044dc4-8bdd-4e27-cef8-40fa4c699fcb"
      },
      "source": [
        "# construct the argument parse and parse the arguments\r\n",
        "ap = argparse.ArgumentParser()\r\n",
        "ap.add_argument(\"-i\", \"--image\", required=True,\r\n",
        "\thelp=\"path to the input image\")\r\n",
        "ap.add_argument(\"-w\", \"--width\", type=float, required=True,\r\n",
        "\thelp=\"width of the left-most object in the image (in inches)\")\r\n",
        "args = vars(ap.parse_args())"
      ],
      "execution_count": 3,
      "outputs": [
        {
          "output_type": "stream",
          "text": [
            "usage: ipykernel_launcher.py [-h] -i IMAGE -w WIDTH\n",
            "ipykernel_launcher.py: error: the following arguments are required: -i/--image, -w/--width\n"
          ],
          "name": "stderr"
        },
        {
          "output_type": "error",
          "ename": "SystemExit",
          "evalue": "ignored",
          "traceback": [
            "An exception has occurred, use %tb to see the full traceback.\n",
            "\u001b[0;31mSystemExit\u001b[0m\u001b[0;31m:\u001b[0m 2\n"
          ]
        },
        {
          "output_type": "stream",
          "text": [
            "/usr/local/lib/python3.6/dist-packages/IPython/core/interactiveshell.py:2890: UserWarning: To exit: use 'exit', 'quit', or Ctrl-D.\n",
            "  warn(\"To exit: use 'exit', 'quit', or Ctrl-D.\", stacklevel=1)\n"
          ],
          "name": "stderr"
        }
      ]
    },
    {
      "cell_type": "markdown",
      "metadata": {
        "id": "6RXE1MBYeKy2"
      },
      "source": [
        "## Pre-Processing the image"
      ]
    },
    {
      "cell_type": "code",
      "metadata": {
        "colab": {
          "base_uri": "https://localhost:8080/",
          "height": 214
        },
        "id": "ZiRkeREnd4lo",
        "outputId": "77cdda2e-3dd9-47e1-c5cd-72683af4ce71"
      },
      "source": [
        "# load the image, convert it to grayscale, and blur it slightly\r\n",
        "image = cv2.imread(args[\"image\"])\r\n",
        "gray = cv2.cvtColor(image, cv2.COLOR_BGR2GRAY)\r\n",
        "gray = cv2.GaussianBlur(gray, (7, 7), 0)"
      ],
      "execution_count": 4,
      "outputs": [
        {
          "output_type": "error",
          "ename": "NameError",
          "evalue": "ignored",
          "traceback": [
            "\u001b[0;31m---------------------------------------------------------------------------\u001b[0m",
            "\u001b[0;31mNameError\u001b[0m                                 Traceback (most recent call last)",
            "\u001b[0;32m<ipython-input-4-04aadea49ba4>\u001b[0m in \u001b[0;36m<module>\u001b[0;34m()\u001b[0m\n\u001b[1;32m      1\u001b[0m \u001b[0;31m# load the image, convert it to grayscale, and blur it slightly\u001b[0m\u001b[0;34m\u001b[0m\u001b[0;34m\u001b[0m\u001b[0;34m\u001b[0m\u001b[0m\n\u001b[0;32m----> 2\u001b[0;31m \u001b[0mimage\u001b[0m \u001b[0;34m=\u001b[0m \u001b[0mcv2\u001b[0m\u001b[0;34m.\u001b[0m\u001b[0mimread\u001b[0m\u001b[0;34m(\u001b[0m\u001b[0margs\u001b[0m\u001b[0;34m[\u001b[0m\u001b[0;34m\"image\"\u001b[0m\u001b[0;34m]\u001b[0m\u001b[0;34m)\u001b[0m\u001b[0;34m\u001b[0m\u001b[0;34m\u001b[0m\u001b[0m\n\u001b[0m\u001b[1;32m      3\u001b[0m \u001b[0mgray\u001b[0m \u001b[0;34m=\u001b[0m \u001b[0mcv2\u001b[0m\u001b[0;34m.\u001b[0m\u001b[0mcvtColor\u001b[0m\u001b[0;34m(\u001b[0m\u001b[0mimage\u001b[0m\u001b[0;34m,\u001b[0m \u001b[0mcv2\u001b[0m\u001b[0;34m.\u001b[0m\u001b[0mCOLOR_BGR2GRAY\u001b[0m\u001b[0;34m)\u001b[0m\u001b[0;34m\u001b[0m\u001b[0;34m\u001b[0m\u001b[0m\n\u001b[1;32m      4\u001b[0m \u001b[0mgray\u001b[0m \u001b[0;34m=\u001b[0m \u001b[0mcv2\u001b[0m\u001b[0;34m.\u001b[0m\u001b[0mGaussianBlur\u001b[0m\u001b[0;34m(\u001b[0m\u001b[0mgray\u001b[0m\u001b[0;34m,\u001b[0m \u001b[0;34m(\u001b[0m\u001b[0;36m7\u001b[0m\u001b[0;34m,\u001b[0m \u001b[0;36m7\u001b[0m\u001b[0;34m)\u001b[0m\u001b[0;34m,\u001b[0m \u001b[0;36m0\u001b[0m\u001b[0;34m)\u001b[0m\u001b[0;34m\u001b[0m\u001b[0;34m\u001b[0m\u001b[0m\n",
            "\u001b[0;31mNameError\u001b[0m: name 'args' is not defined"
          ]
        }
      ]
    },
    {
      "cell_type": "code",
      "metadata": {
        "id": "ncELZ8tBeSoY"
      },
      "source": [
        "# perform edge detection, then perform a dilation + erosion to\r\n",
        "# close gaps in between object edges\r\n",
        "edged = cv2.Canny(gray, 50, 100)\r\n",
        "edged = cv2.dilate(edged, None, iterations=1)\r\n",
        "edged = cv2.erode(edged, None, iterations=1)"
      ],
      "execution_count": null,
      "outputs": []
    },
    {
      "cell_type": "code",
      "metadata": {
        "id": "Uat6c9mEeZKJ"
      },
      "source": [
        "# find contours in the edge map\r\n",
        "cnts = cv2.findContours(edged.copy(), cv2.RETR_EXTERNAL,\r\n",
        "\tcv2.CHAIN_APPROX_SIMPLE)\r\n",
        "cnts = imutils.grab_contours(cnts)"
      ],
      "execution_count": null,
      "outputs": []
    },
    {
      "cell_type": "code",
      "metadata": {
        "id": "fKE-9f4MecYn"
      },
      "source": [
        "# sort the contours from left-to-right and, then initialize the\r\n",
        "# distance colors and reference object\r\n",
        "(cnts, _) = contours.sort_contours(cnts)\r\n",
        "colors = ((0, 0, 255), (240, 0, 159), (0, 165, 255), (255, 255, 0),\r\n",
        "\t(255, 0, 255))\r\n",
        "refObj = None"
      ],
      "execution_count": null,
      "outputs": []
    },
    {
      "cell_type": "markdown",
      "metadata": {
        "id": "QCsfQXQuelS5"
      },
      "source": [
        "## Measuring the distance between objects"
      ]
    },
    {
      "cell_type": "code",
      "metadata": {
        "id": "M1qVnYWfefCh"
      },
      "source": [
        "# loop over the contours individually\r\n",
        "for c in cnts:\r\n",
        "\t# if the contour is not sufficiently large, ignore it\r\n",
        "\tif cv2.contourArea(c) < 100:\r\n",
        "\t\tcontinue\r\n",
        "\t# compute the rotated bounding box of the contour\r\n",
        "\tbox = cv2.minAreaRect(c)\r\n",
        "\tbox = cv2.cv.BoxPoints(box) if imutils.is_cv2() else cv2.boxPoints(box)\r\n",
        "\tbox = np.array(box, dtype=\"int\")\r\n",
        "\t# order the points in the contour such that they appear\r\n",
        "\t# in top-left, top-right, bottom-right, and bottom-left\r\n",
        "\t# order, then draw the outline of the rotated bounding\r\n",
        "\t# box\r\n",
        "\tbox = perspective.order_points(box)\r\n",
        "\t# compute the center of the bounding box\r\n",
        "\tcX = np.average(box[:, 0])\r\n",
        "\tcY = np.average(box[:, 1])"
      ],
      "execution_count": null,
      "outputs": []
    },
    {
      "cell_type": "code",
      "metadata": {
        "id": "EsnCezAMgFIr"
      },
      "source": [
        "# if this is the first contour we are examining (i.e.,\r\n",
        "\t# the left-most contour), we presume this is the\r\n",
        "\t# reference object\r\n",
        "\tif refObj is None:\r\n",
        "\t\t# unpack the ordered bounding box, then compute the\r\n",
        "\t\t# midpoint between the top-left and top-right points,\r\n",
        "\t\t# followed by the midpoint between the top-right and\r\n",
        "\t\t# bottom-right\r\n",
        "\t\t(tl, tr, br, bl) = box\r\n",
        "\t\t(tlblX, tlblY) = midpoint(tl, bl)\r\n",
        "\t\t(trbrX, trbrY) = midpoint(tr, br)\r\n",
        "\t\t# compute the Euclidean distance between the midpoints,\r\n",
        "\t\t# then construct the reference object\r\n",
        "\t\tD = dist.euclidean((tlblX, tlblY), (trbrX, trbrY))\r\n",
        "\t\trefObj = (box, (cX, cY), D / args[\"width\"])\r\n",
        "\t\tcontinue"
      ],
      "execution_count": null,
      "outputs": []
    },
    {
      "cell_type": "code",
      "metadata": {
        "id": "dwHAaF-rhjoG"
      },
      "source": [
        "\t# draw the contours on the image\r\n",
        "\torig = image.copy()\r\n",
        "\tcv2.drawContours(orig, [box.astype(\"int\")], -1, (0, 255, 0), 2)\r\n",
        "\tcv2.drawContours(orig, [refObj[0].astype(\"int\")], -1, (0, 255, 0), 2)\r\n",
        "\t# stack the reference coordinates and the object coordinates\r\n",
        "\t# to include the object center\r\n",
        "\trefCoords = np.vstack([refObj[0], refObj[1]])\r\n",
        "\tobjCoords = np.vstack([box, (cX, cY)])"
      ],
      "execution_count": null,
      "outputs": []
    },
    {
      "cell_type": "code",
      "metadata": {
        "id": "XBYXtv3xhukU"
      },
      "source": [
        "\t# loop over the original points\r\n",
        "\tfor ((xA, yA), (xB, yB), color) in zip(refCoords, objCoords, colors):\r\n",
        "\t\t# draw circles corresponding to the current points and\r\n",
        "\t\t# connect them with a line\r\n",
        "\t\tcv2.circle(orig, (int(xA), int(yA)), 5, color, -1)\r\n",
        "\t\tcv2.circle(orig, (int(xB), int(yB)), 5, color, -1)\r\n",
        "\t\tcv2.line(orig, (int(xA), int(yA)), (int(xB), int(yB)),\r\n",
        "\t\t\tcolor, 2)\r\n",
        "\t\t# compute the Euclidean distance between the coordinates,\r\n",
        "\t\t# and then convert the distance in pixels to distance in\r\n",
        "\t\t# units\r\n",
        "\t\tD = dist.euclidean((xA, yA), (xB, yB)) / refObj[2]\r\n",
        "\t\t(mX, mY) = midpoint((xA, yA), (xB, yB))\r\n",
        "\t\tcv2.putText(orig, \"{:.1f}in\".format(D), (int(mX), int(mY - 10)),\r\n",
        "\t\t\tcv2.FONT_HERSHEY_SIMPLEX, 0.55, color, 2)\r\n",
        "\t\t# show the output image\r\n",
        "\t\tcv2.imshow(\"Image\", orig)\r\n",
        "\t\tcv2.waitKey(0)"
      ],
      "execution_count": null,
      "outputs": []
    }
  ]
}