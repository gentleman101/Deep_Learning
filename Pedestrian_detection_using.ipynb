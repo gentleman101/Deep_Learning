{
  "nbformat": 4,
  "nbformat_minor": 0,
  "metadata": {
    "colab": {
      "name": "Pedestrian_detection_using.ipynb",
      "provenance": [],
      "authorship_tag": "ABX9TyP0KQp9qqZGA6u0VYgbJ9hG",
      "include_colab_link": true
    },
    "kernelspec": {
      "name": "python3",
      "display_name": "Python 3"
    }
  },
  "cells": [
    {
      "cell_type": "markdown",
      "metadata": {
        "id": "view-in-github",
        "colab_type": "text"
      },
      "source": [
        "<a href=\"https://colab.research.google.com/github/gentleman101/Deep_Learning/blob/main/Pedestrian_detection_using.ipynb\" target=\"_parent\"><img src=\"https://colab.research.google.com/assets/colab-badge.svg\" alt=\"Open In Colab\"/></a>"
      ]
    },
    {
      "cell_type": "code",
      "metadata": {
        "id": "B4EG80BUtJEZ"
      },
      "source": [
        "#Importing Necessary Packages\r\n",
        "from __future__ import print_function\r\n",
        "from imutils.object_detection import non_max_suppression    #Used to reduce number of squares on face\r\n",
        "from imutils import paths\r\n",
        "import numpy as np\r\n",
        "import argparse\r\n",
        "import imutils\r\n",
        "import cv2"
      ],
      "execution_count": 1,
      "outputs": []
    },
    {
      "cell_type": "code",
      "metadata": {
        "colab": {
          "base_uri": "https://localhost:8080/",
          "height": 180
        },
        "id": "aVGEWXomwrJd",
        "outputId": "4dae4ec2-25fa-49b8-f99a-78179b2cd2e3"
      },
      "source": [
        "# construct the argument parse and parse the arguments\r\n",
        "ap = argparse.ArgumentParser()\r\n",
        "ap.add_argument(\"-i\", \"--images\", required=True, help=\"path to images directory\")\r\n",
        "args = vars(ap.parse_args())\r\n"
      ],
      "execution_count": 2,
      "outputs": [
        {
          "output_type": "stream",
          "text": [
            "usage: ipykernel_launcher.py [-h] -i IMAGES\n",
            "ipykernel_launcher.py: error: the following arguments are required: -i/--images\n"
          ],
          "name": "stderr"
        },
        {
          "output_type": "error",
          "ename": "SystemExit",
          "evalue": "ignored",
          "traceback": [
            "An exception has occurred, use %tb to see the full traceback.\n",
            "\u001b[0;31mSystemExit\u001b[0m\u001b[0;31m:\u001b[0m 2\n"
          ]
        },
        {
          "output_type": "stream",
          "text": [
            "/usr/local/lib/python3.6/dist-packages/IPython/core/interactiveshell.py:2890: UserWarning: To exit: use 'exit', 'quit', or Ctrl-D.\n",
            "  warn(\"To exit: use 'exit', 'quit', or Ctrl-D.\", stacklevel=1)\n"
          ],
          "name": "stderr"
        }
      ]
    },
    {
      "cell_type": "code",
      "metadata": {
        "id": "b5T2VMIBxLZE"
      },
      "source": [
        "# initialize the HOG descriptor/person detector\r\n",
        "hog = cv2.HOGDescriptor()\r\n",
        "hog.setSVMDetector(cv2.HOGDescriptor_getDefaultPeopleDetector())"
      ],
      "execution_count": null,
      "outputs": []
    },
    {
      "cell_type": "code",
      "metadata": {
        "id": "itq44WkU1DAG"
      },
      "source": [
        "# loop over the image paths\r\n",
        "for imagePath in paths.list_images(args[\"images\"]):\r\n",
        "\t# load the image and resize it to (1) reduce detection time\r\n",
        "\t# and (2) improve detection accuracy\r\n",
        "\timage = cv2.imread(imagePath)\r\n",
        "\timage = imutils.resize(image, width=min(400, image.shape[1]))\r\n",
        "\torig = image.copy()\r\n",
        "\t# detect people in the image\r\n",
        "\t(rects, weights) = hog.detectMultiScale(image, winStride=(4, 4),\r\n",
        "\t\tpadding=(8, 8), scale=1.05)\r\n",
        "\t# draw the original bounding boxes\r\n",
        "\tfor (x, y, w, h) in rects:\r\n",
        "\t\tcv2.rectangle(orig, (x, y), (x + w, y + h), (0, 0, 255), 2)\r\n",
        "\t# apply non-maxima suppression to the bounding boxes using a\r\n",
        "\t# fairly large overlap threshold to try to maintain overlapping\r\n",
        "\t# boxes that are still people\r\n",
        "\trects = np.array([[x, y, x + w, y + h] for (x, y, w, h) in rects])\r\n",
        "\tpick = non_max_suppression(rects, probs=None, overlapThresh=0.65)\r\n",
        "\t# draw the final bounding boxes\r\n",
        "\tfor (xA, yA, xB, yB) in pick:\r\n",
        "\t\tcv2.rectangle(image, (xA, yA), (xB, yB), (0, 255, 0), 2)\r\n",
        "\t# show some information on the number of bounding boxes\r\n",
        "\tfilename = imagePath[imagePath.rfind(\"/\") + 1:]\r\n",
        "\tprint(\"[INFO] {}: {} original boxes, {} after suppression\".format(\r\n",
        "\t\tfilename, len(rects), len(pick)))\r\n",
        "\t# show the output images\r\n",
        "\tcv2.imshow(\"Before NMS\", orig)\r\n",
        "\tcv2.imshow(\"After NMS\", image)\r\n",
        "\tcv2.waitKey(0)"
      ],
      "execution_count": null,
      "outputs": []
    }
  ]
}